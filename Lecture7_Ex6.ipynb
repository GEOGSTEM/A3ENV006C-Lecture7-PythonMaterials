{
  "cells": [
    {
      "cell_type": "markdown",
      "metadata": {
        "id": "yD2zMZzVeRFF"
      },
      "source": [
        "# Exercise 6a - Keras Neural Network \"Hello World\"\n",
        "\n"
      ]
    },
    {
      "cell_type": "code",
      "execution_count": 1,
      "metadata": {
        "id": "NWv1HsWxQoYr",
        "collapsed": true
      },
      "outputs": [],
      "source": [
        "from keras.models import Sequential\n",
        "from keras.layers import Dense\n",
        "import numpy as np\n",
        "import matplotlib.pyplot as plt"
      ]
    },
    {
      "cell_type": "markdown",
      "source": [
        "Teaching Input: A simple Function\n",
        "As input I have chosen a rescaled and shifted sine function with squared argument. You may adjust the function to your likings. The rescaling and shifting has been done such that the neural net has input and output values between zero and one. This is adjusted to some of the so-called activation functions with output values in exactly that range.\n",
        "\n",
        "Furthermore, using some Gaussian random noise the target function \"Y\" is established. Values for the argument \"X\" are chosen at random as well. For later plotting purposes, we also calculate non-noisy values \"Yreal\"."
      ],
      "metadata": {
        "id": "dqszuhFgt_mD"
      }
    },
    {
      "cell_type": "code",
      "source": [
        "def inputfunct(x):\n",
        "    return 0.25*(np.sin(2*np.pi*x*x)+2.0)\n",
        "\n",
        "np.random.seed(5)\n",
        "X = np.random.sample([2048])\n",
        "Y = inputfunct(X) + 0.2*np.random.normal(0,0.2,len(X))\n",
        "\n",
        "Xreal = np.arange(0.0, 1.0, 0.01)\n",
        "Yreal = inputfunct(Xreal)"
      ],
      "metadata": {
        "id": "hj6FK8yvuACZ"
      },
      "execution_count": 2,
      "outputs": []
    },
    {
      "cell_type": "markdown",
      "source": [
        "## Establishing the Neural Network Model\n",
        "\n",
        "And here comes the magic of Keras: establishing the neural network is extremely easy. Simply add some layers to the network with certain activation functions and let the model compile. For simplicity we have chosen an input layer with 8 neurons, followed by two hidden layers with 64 neurons each and one single-neuron output layer. Technically, this network is a deep neural network. Its implementation in Keras is really that simple:"
      ],
      "metadata": {
        "id": "PTeUMA_TuSab"
      }
    },
    {
      "cell_type": "code",
      "execution_count": 3,
      "metadata": {
        "id": "uCFn7j2PQoYs"
      },
      "outputs": [],
      "source": [
        "### Model creation: adding layers and compilation\n",
        "model = Sequential()\n",
        "model.add(Dense(8, input_dim=1, activation='relu'))\n",
        "model.add(Dense(64, activation='relu'))\n",
        "model.add(Dense(64, activation='relu'))\n",
        "model.add(Dense(1, activation='linear'))\n",
        "\n",
        "model.compile(optimizer='adam', loss='mse', metrics=['mse'])\n"
      ]
    },
    {
      "cell_type": "markdown",
      "source": [
        "##Train the Neural Network\n",
        "\n",
        "After the neural network model is established, it needs to be trained. In this step the X values are used as input and compared to the target Y values. Then, the weights and biases of the neural network are adjusted in each learning iteration called epoch. Not all data is processed at the same time, only a certain number of batches.\n",
        "\n",
        "\n",
        "\n"
      ],
      "metadata": {
        "id": "R7a-C3c3u3gG"
      }
    },
    {
      "cell_type": "code",
      "source": [
        "nepoch = 128\n",
        "nbatch = 16\n",
        "model.fit(X, Y, epochs=nepoch, batch_size=nbatch)"
      ],
      "metadata": {
        "id": "sK-QSJptwe2j"
      },
      "execution_count": null,
      "outputs": []
    },
    {
      "cell_type": "markdown",
      "source": [
        "## Use the Neural Network for Value Predictions\n",
        "\n",
        "After a number of epochs the model may be able to provide predictions. In our example we can simply feed the model with some arguments and see if the results are somewhat comparable to our target function. For completeness, the plot instructions are shown as well."
      ],
      "metadata": {
        "id": "39hV0E0IHpxi"
      }
    },
    {
      "cell_type": "code",
      "source": [
        "Ylearn = model.predict(Xreal)\n",
        "\n",
        "### Make a nice graphic!\n",
        "plt.plot(X,Y,'.', label='Raw noisy input data')\n",
        "plt.plot(Xreal,Yreal, label='Actual function, not noisy', linewidth=4.0, c='black')\n",
        "plt.plot(Xreal, Ylearn, label='Output of the Neural Net', linewidth=4.0, c='red')\n",
        "plt.legend()\n",
        "plt.show()"
      ],
      "metadata": {
        "id": "xTEuciWVHmt5"
      },
      "execution_count": null,
      "outputs": []
    }
  ],
  "metadata": {
    "colab": {
      "provenance": []
    },
    "kernelspec": {
      "display_name": "Python 3",
      "name": "python3"
    },
    "language_info": {
      "name": "python"
    }
  },
  "nbformat": 4,
  "nbformat_minor": 0
}