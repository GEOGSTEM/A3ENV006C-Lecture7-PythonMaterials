{
  "cells": [
    {
      "cell_type": "markdown",
      "metadata": {
        "id": "yD2zMZzVeRFF"
      },
      "source": [
        "# Exercise 4a - 1D Interpolation\n",
        "\n"
      ]
    },
    {
      "cell_type": "markdown",
      "source": [
        "Let’s begin by first importing the function that will be used to perform the interpolation.\n",
        "\n",
        "\n",
        "\n",
        "```\n",
        "## interpolate.interp1d()\n",
        "```\n",
        "The Python function above belongs to the Scipy package. Since we will use different interpolating functions for each dimensions, we will import ***.interpolate*** from the Scipy library to do the data interpolation. But before that, we need to create a data set that will be used to show the interpolation process.\n",
        "\n",
        "By defining an x array (using the Numpy function .linspace()) of ten equally spaced numbers ranging from 0 to 100, we will get a list of x with values from 0 to 100 with spaced at 11. (i.e. 0, 10, 20, 30, ... , 100)\n",
        "\n",
        "For y array, we will use the following equation as a function of x:\n",
        "\n",
        "# y = 3$x^{2}$ - $e^{0.1x}$\n",
        "\n"
      ],
      "metadata": {
        "id": "BohwfBqPsIsq"
      }
    },
    {
      "cell_type": "code",
      "execution_count": null,
      "metadata": {
        "id": "NWv1HsWxQoYr",
        "collapsed": true
      },
      "outputs": [],
      "source": [
        "import numpy as np\n",
        "import matplotlib.pyplot as plt\n",
        "from scipy import interpolate\n",
        "#defining x and y arrays of the initial data set\n",
        "x = np.linspace(0, 100,11)\n",
        "y = 3*x**2 - np.exp(0.1*x)\n",
        "\n",
        "print(\"x:\")\n",
        "print(x)\n",
        "\n",
        "print(\"y:\")\n",
        "print(y)\n"
      ]
    },
    {
      "cell_type": "markdown",
      "source": [
        "Since the process of interpolation allows for obtaining the value of unknown points located within the range of the already known ones, we now define another x array that will contain more points than the first x array (“x”). In particular, we exploit again ***.linspace()*** to build an array of 101 equally spaced numbers \"x\".\n",
        "\n",
        "** Q&A: Please modify the code. Can you tell me why we need to use 101 instead of 100?"
      ],
      "metadata": {
        "id": "dqszuhFgt_mD"
      }
    },
    {
      "cell_type": "code",
      "source": [
        "# x array that will be used for interpolating new point values\n",
        "x_new = np.linspace(0, 100, 101)\n",
        "\n",
        "print(x_new)"
      ],
      "metadata": {
        "id": "hj6FK8yvuACZ"
      },
      "execution_count": null,
      "outputs": []
    },
    {
      "cell_type": "markdown",
      "source": [
        "There are multiple “kind” options which specifies the type of function that will be used in the interpolating process. Let's print out how different 1D interpolation methods will result different function curve."
      ],
      "metadata": {
        "id": "PTeUMA_TuSab"
      }
    },
    {
      "cell_type": "code",
      "execution_count": null,
      "metadata": {
        "id": "uCFn7j2PQoYs"
      },
      "outputs": [],
      "source": [
        "kind = ['linear', 'nearest', 'zero', 'slinear', 'quadratic', 'cubic', 'previous', 'next']\n",
        "fig = plt.figure()\n",
        "ax = fig.subplots()\n",
        "for i in kind:\n",
        "      #interpolation step\n",
        "      f = interpolate.interp1d(x, y, kind = i)\n",
        "      #y array that contains the interpolated data points\n",
        "      y_interp = f(x_new)\n",
        "      ax.plot(x_new, y_interp, alpha = 0.5, label = i)\n",
        "ax.scatter(x,y)\n",
        "plt.legend()\n",
        "plt.show()"
      ]
    },
    {
      "cell_type": "markdown",
      "source": [
        "## Task 4.1 (Do it together)###"
      ],
      "metadata": {
        "id": "ytVuSsSMuzKJ"
      }
    },
    {
      "cell_type": "markdown",
      "source": [
        "If I have another eqution:  \n",
        "# **y = 7$x^{3}$ - 3$x^{2}$ + 9$x$**\n",
        "and I would like to have 1000 spaces on the menu?\n",
        "\n",
        "- What will the graph looks like?\n",
        "- Which kind of equation for it?\n",
        "\n",
        "\n",
        "\n"
      ],
      "metadata": {
        "id": "R7a-C3c3u3gG"
      }
    },
    {
      "cell_type": "code",
      "source": [],
      "metadata": {
        "id": "sK-QSJptwe2j"
      },
      "execution_count": null,
      "outputs": []
    },
    {
      "cell_type": "markdown",
      "metadata": {
        "id": "jJRc74DsQoYt"
      },
      "source": [
        "# Exercise 4b - 2D Interpolation"
      ]
    },
    {
      "cell_type": "markdown",
      "source": [
        "### Method 1: Interpolate unstructured data\n",
        "\n",
        "```\n",
        "# scipy.interpolate.griddata\n",
        "```\n",
        "\n",
        "Suppose we want to interpolate the 2-D function on a grid in [0, 1]x[0, 1]"
      ],
      "metadata": {
        "id": "DCNtHkCVdZ6k"
      }
    },
    {
      "cell_type": "code",
      "execution_count": 15,
      "metadata": {
        "id": "HBrQ4zPLXXsZ"
      },
      "outputs": [],
      "source": [
        "import numpy as np\n",
        "def func(x, y):\n",
        "    return x*(1-x)*np.cos(4*np.pi*x) * np.sin(4*np.pi*y**2)**2"
      ]
    },
    {
      "cell_type": "markdown",
      "source": [
        "but we only know its values at 1000 data points"
      ],
      "metadata": {
        "id": "9NjQ8iIFjw4Z"
      }
    },
    {
      "cell_type": "code",
      "source": [
        "grid_x, grid_y = np.mgrid[0:1:100j, 0:1:200j]\n",
        "rng = np.random.default_rng()\n",
        "points = rng.random((1000, 2))\n",
        "values = func(points[:,0], points[:,1])"
      ],
      "metadata": {
        "id": "OQuKsfZ8ctwr"
      },
      "execution_count": 16,
      "outputs": []
    },
    {
      "cell_type": "code",
      "source": [
        "from scipy.interpolate import griddata\n",
        "grid_z0 = griddata(points, values, (grid_x, grid_y), method='nearest')\n",
        "grid_z1 = griddata(points, values, (grid_x, grid_y), method='linear')\n",
        "grid_z2 = griddata(points, values, (grid_x, grid_y), method='cubic')"
      ],
      "metadata": {
        "id": "kS7fe0-fj2EN"
      },
      "execution_count": 17,
      "outputs": []
    },
    {
      "cell_type": "markdown",
      "source": [
        "One can see that the exact result is reproduced by all of the methods to some degree, but for this smooth function the piecewise cubic interpolant gives the best results:"
      ],
      "metadata": {
        "id": "YX7OskUmj789"
      }
    },
    {
      "cell_type": "code",
      "source": [
        "import matplotlib.pyplot as plt\n",
        "plt.subplot(221)\n",
        "plt.imshow(func(grid_x, grid_y).T, extent=(0,1,0,1), origin='lower')\n",
        "plt.plot(points[:,0], points[:,1], 'k.', ms=1)\n",
        "plt.title('Original')\n",
        "plt.subplot(222)\n",
        "plt.imshow(grid_z0.T, extent=(0,1,0,1), origin='lower')\n",
        "plt.title('Nearest')\n",
        "plt.subplot(223)\n",
        "plt.imshow(grid_z1.T, extent=(0,1,0,1), origin='lower')\n",
        "plt.title('Linear')\n",
        "plt.subplot(224)\n",
        "plt.imshow(grid_z2.T, extent=(0,1,0,1), origin='lower')\n",
        "plt.title('Cubic')\n",
        "plt.gcf().set_size_inches(6, 6)\n",
        "plt.show()"
      ],
      "metadata": {
        "id": "r1levgNrj89V"
      },
      "execution_count": null,
      "outputs": []
    },
    {
      "cell_type": "markdown",
      "source": [
        "### Method 2: Inverse Distance Weighting Interpolation\n"
      ],
      "metadata": {
        "id": "NHHMQ9maeDJd"
      }
    },
    {
      "cell_type": "markdown",
      "source": [
        "Let's interpolate some Velocity Data using IDW method"
      ],
      "metadata": {
        "id": "nnJ296bxkxe2"
      }
    },
    {
      "cell_type": "code",
      "source": [
        "import numpy as np\n",
        "import pandas as pd\n",
        "import matplotlib.pyplot as plt"
      ],
      "metadata": {
        "id": "aravumiplOGN"
      },
      "execution_count": 23,
      "outputs": []
    },
    {
      "cell_type": "markdown",
      "source": [
        "Connect Google Drive & Reading .csv files"
      ],
      "metadata": {
        "id": "3bkclb6EmxQg"
      }
    },
    {
      "cell_type": "code",
      "source": [
        "from google.colab import drive\n",
        "drive.flush_and_unmount()\n",
        "dir = '/content/drive/MyDrive/Colab Notebooks'\n",
        "drive.mount('/content/drive')"
      ],
      "metadata": {
        "id": "Z4t2m267mwN2"
      },
      "execution_count": null,
      "outputs": []
    },
    {
      "cell_type": "code",
      "source": [
        "# unstructured triangular grid\n",
        "data_grid = pd.read_csv('/content/drive/MyDrive/Colab Notebooks/grid_point.csv')\n",
        "data_triangle = pd.read_csv('/content/drive/MyDrive/Colab Notebooks/grid_triangle.csv', header=None)\n",
        "\n",
        "# velocity data\n",
        "data_velocity = pd.read_csv('/content/drive/MyDrive/Colab Notebooks/velocity.csv')"
      ],
      "metadata": {
        "id": "FYj6VDagknWa"
      },
      "execution_count": 27,
      "outputs": []
    },
    {
      "cell_type": "markdown",
      "source": [
        "Visualize the Dataset first:"
      ],
      "metadata": {
        "id": "fDtUhwNKnREb"
      }
    },
    {
      "cell_type": "code",
      "source": [
        "fig, ax = plt.subplots(figsize=(8,12))\n",
        "\n",
        "# unstructured triangular grid\n",
        "ax.plot(data_grid['x'], data_grid['y'], 'ko', markersize=1, label='grid point (unknown value)')\n",
        "\n",
        "# velocity data\n",
        "ax.plot(data_velocity['x'], data_velocity['y'], 'ro', label='velocity data (known value)')\n",
        "\n",
        "ax.set_xlabel('Easting', fontweight='bold')\n",
        "ax.set_ylabel('Northing', fontweight='bold')\n",
        "\n",
        "ax.legend(edgecolor='black', facecolor='white')\n",
        "\n",
        "plt.show()"
      ],
      "metadata": {
        "id": "wYrgaakxnO82"
      },
      "execution_count": null,
      "outputs": []
    },
    {
      "cell_type": "markdown",
      "source": [
        "Zoom in to observe the data point from x = [260000, 280000] and y =[9000000, 9020000]"
      ],
      "metadata": {
        "id": "XxSpoLCYnoEN"
      }
    },
    {
      "cell_type": "code",
      "source": [
        "fig, ax = plt.subplots(figsize=(8,8))\n",
        "\n",
        "# unstructured triangular grid\n",
        "ax.plot(data_grid['x'], data_grid['y'], 'ko', markersize=1, label='grid point (unknown value)')\n",
        "\n",
        "# velocity data\n",
        "ax.plot(data_velocity['x'], data_velocity['y'], 'ro', label='velocity data (known value)')\n",
        "\n",
        "ax.set_xlim(260000, 280000)\n",
        "ax.set_ylim(9000000, 9020000)\n",
        "\n",
        "ax.set_xlabel('Easting', fontweight='bold')\n",
        "ax.set_ylabel('Northing', fontweight='bold')\n",
        "\n",
        "ax.legend(edgecolor='black', facecolor='white')\n",
        "\n",
        "plt.show()"
      ],
      "metadata": {
        "id": "8ulBTqOInXMa"
      },
      "execution_count": null,
      "outputs": []
    },
    {
      "cell_type": "markdown",
      "source": [
        "## Inverse Distance Weighting (IDW)"
      ],
      "metadata": {
        "id": "B_fIKbb8n9hG"
      }
    },
    {
      "cell_type": "markdown",
      "source": [
        "Step 1: distance calculation"
      ],
      "metadata": {
        "id": "L3eA9OOCoHuJ"
      }
    },
    {
      "cell_type": "code",
      "source": [
        "i = 0 #\n",
        "nPoints = 5 # number of points\n",
        "dList = []\n",
        "\n",
        "for j in range(len(data_velocity)):\n",
        "    dList.append(distance(data_grid['x'][i],\n",
        "                          data_velocity['x'][j],\n",
        "                          data_grid['y'][i],\n",
        "                          data_velocity['y'][j]))\n",
        "\n",
        "dListDF = pd.Series(dList)\n",
        "dListDF.sort_values(ascending=True, inplace=True)\n",
        "dListDF = dListDF[0:nPoints]\n",
        "\n",
        "print(\"dListDF:\")\n",
        "print(dListDF)\n",
        "\n",
        "print(data_velocity)\n",
        "print(data_velocity.iloc[dListDF.index.values])"
      ],
      "metadata": {
        "id": "rs5VRmkHoG72"
      },
      "execution_count": null,
      "outputs": []
    },
    {
      "cell_type": "markdown",
      "source": [
        "Step 2: Check the closest distance"
      ],
      "metadata": {
        "id": "Pumd8WtOotyH"
      }
    },
    {
      "cell_type": "code",
      "source": [
        "if dListDF.iloc[0] <= 1: # if the distance from interpolation point less than equal to 1 meter\n",
        "\n",
        "    data_velocity['mag'][dListDF.index.values[0]]\n",
        "    print(True)\n",
        "\n",
        "else:\n",
        "\n",
        "    print(False)"
      ],
      "metadata": {
        "id": "fODRNmjKoxE6"
      },
      "execution_count": null,
      "outputs": []
    },
    {
      "cell_type": "markdown",
      "source": [
        "Step 3: Perform the IDW"
      ],
      "metadata": {
        "id": "YH-vup6Wo1g6"
      }
    },
    {
      "cell_type": "code",
      "source": [
        "#=========IDW=========#\n",
        "\n",
        "# get the velocity data: the closest 5 data\n",
        "\n",
        "vMag = []\n",
        "for idx in dListDF.index.values:\n",
        "    vMag.append(data_velocity['mag'][idx])\n",
        "vMag = np.array(vMag)\n",
        "\n",
        "# weight calculation\n",
        "\n",
        "p = 2                     # power parameter\n",
        "wList = []\n",
        "for d in dListDF:\n",
        "    wList.append(1/d**p)\n",
        "wList = np.array(wList)\n",
        "\n",
        "# IDW\n",
        "\n",
        "np.dot(vMag,np.transpose(wList))/np.sum(wList)"
      ],
      "metadata": {
        "id": "3Ht8mfeco8sc"
      },
      "execution_count": null,
      "outputs": []
    },
    {
      "cell_type": "markdown",
      "source": [
        "Step 4: Save the result to numpy array"
      ],
      "metadata": {
        "id": "vTSAdIdspCAy"
      }
    },
    {
      "cell_type": "code",
      "source": [
        "np.savetxt('/content/drive/MyDrive/Colab Notebooks/velocity_IDW.csv', vIDW)"
      ],
      "metadata": {
        "id": "zW089e0mpEGZ"
      },
      "execution_count": 47,
      "outputs": []
    },
    {
      "cell_type": "markdown",
      "source": [
        "Step 5: Contour Fill Plot"
      ],
      "metadata": {
        "id": "9sP7gFmvpNY3"
      }
    },
    {
      "cell_type": "code",
      "source": [
        "import matplotlib.tri as mtri\n",
        "vIDW = np.loadtxt('/content/drive/MyDrive/Colab Notebooks/velocity_IDW.csv')\n",
        "triang = mtri.Triangulation(data_grid['x'], data_grid['y'], triangles=data_triangle-1)\n",
        "\n",
        "fig, ax = plt.subplots(figsize=(8,12))\n",
        "ax.triplot(triang, color='black', linewidth=0.5)\n",
        "plt.show()"
      ],
      "metadata": {
        "id": "EbB69hpZpS7k"
      },
      "execution_count": null,
      "outputs": []
    },
    {
      "cell_type": "markdown",
      "source": [
        "Step 6: Adding axes information"
      ],
      "metadata": {
        "id": "K3quOilGpdxX"
      }
    },
    {
      "cell_type": "code",
      "source": [
        "fig, ax = plt.subplots(figsize=(9,12))\n",
        "\n",
        "# draw the contour fill\n",
        "vIDW = np.loadtxt('/content/drive/MyDrive/Colab Notebooks/velocity_IDW.csv')\n",
        "print(vIDW)\n",
        "im = ax.triplot(triang, color='black', linewidth=0.5)\n",
        "\n",
        "# adding the x and y axis labels\n",
        "ax.set_ylabel('Latitude (UTM)', fontweight='bold', fontsize=12)\n",
        "ax.set_xlabel('Longitude (UTM)', fontweight='bold', fontsize=12)\n",
        "\n",
        "# set the x and y ticks\n",
        "ax.set_yticks(ticks=[9020000, 9040000, 9060000, 9080000, 9100000, 9120000])\n",
        "ax.set_xticks(ticks=[210000, 230000, 250000, 270000, 290000])\n",
        "\n",
        "# rotate the yticks label and change the fontsize\n",
        "ax.set_yticklabels(ax.get_yticks(), rotation=90, fontsize=12, va='center')\n",
        "ax.set_xticklabels(ax.get_xticks(), fontsize=12, ha='center')\n",
        "\n",
        "# set the plot axis limit\n",
        "ax.set_xlim(201000, 305000)\n",
        "ax.set_ylim(8995900, 9130000)\n",
        "\n",
        "# colorbar position\n",
        "cax = fig.add_axes([0.92, 0.15, 0.04, 0.7])\n",
        "\n",
        "plt.show()"
      ],
      "metadata": {
        "id": "LdJvyvMPphGH"
      },
      "execution_count": null,
      "outputs": []
    }
  ],
  "metadata": {
    "colab": {
      "provenance": []
    },
    "kernelspec": {
      "display_name": "Python 3",
      "name": "python3"
    },
    "language_info": {
      "name": "python"
    }
  },
  "nbformat": 4,
  "nbformat_minor": 0
}